{
 "cells": [
  {
   "cell_type": "markdown",
   "metadata": {},
   "source": [
    "# 1. Fixed-point iteration"
   ]
  },
  {
   "cell_type": "markdown",
   "metadata": {},
   "source": [
    "Rewrite $f(x) = 0$ as $x = \\phi(x)$ so that\n",
    "$$f(x_*) = 0 \\Leftrightarrow x_* = \\phi(x_*),$$\n",
    "where $x_*$ is the root of the first equation.\n",
    "\n",
    "The simplest way of costructing $\\phi(x)$ is\n",
    "$$\\phi(x) = x - \\alpha f(x).$$"
   ]
  },
  {
   "cell_type": "markdown",
   "metadata": {},
   "source": [
    "The iterative process\n",
    "$$x_{n+1} = \\phi(x_{n})$$\n",
    "converges to the root $x_*$ if $\\lim\\limits_{n \\rightarrow} x_n = x_*$."
   ]
  },
  {
   "cell_type": "markdown",
   "metadata": {},
   "source": [
    "Consider the following equation:\n",
    "\n",
    "$$\n",
    "\\sqrt{x} = \\cos{x}\n",
    "$$\n",
    "\n",
    "Plot the left-hand side and right-hand side of this equation, and localize the root graphically. Estimate the location of the root by visual inspection of the plot.\n",
    "\n",
    "Write a function which finds the solution using fixed-point iteration up to a predefined accuracy $\\epsilon$ in the form\n",
    "\n",
    "$$\n",
    "\\phi(x) = x - \\alpha f(x),\n",
    "$$\n",
    "\n",
    "where $\\alpha$ is the free parameter. Check the dependence of the number of iterations required for a given $\\epsilon$ on $\\alpha$ (visualize this dependence for three different values of $epsilon$). Compare your results to an expectation that the optimal value of $\\alpha$ is given by \n",
    "\n",
    "$$\n",
    "\\alpha = \\frac{2}{m + M}\n",
    "$$\n",
    "\n",
    "where $0 < m < |f'(x)| < M$ over the localization interval (highlight it on the plot)."
   ]
  },
  {
   "cell_type": "code",
   "execution_count": 1,
   "metadata": {},
   "outputs": [],
   "source": [
    "import numpy as np\n",
    "import matplotlib.pyplot as plt\n",
    "from math import pi"
   ]
  },
  {
   "cell_type": "code",
   "execution_count": 2,
   "metadata": {},
   "outputs": [
    {
     "data": {
      "image/png": "[encoded data removed]",
      "text/plain": [
       "<Figure size 576x432 with 1 Axes>"
      ]
     },
     "metadata": {
      "needs_background": "light"
     },
     "output_type": "display_data"
    }
   ],
   "source": [
    "x = np.linspace(0., 2*pi, 600)\n",
    "y1 = np.cos(x)\n",
    "y2 = np.sqrt(x)\n",
    "\n",
    "f = plt.figure(0, figsize=(8,6))\n",
    "plt.plot(x, y1)\n",
    "plt.plot(x, y2)\n",
    "plt.show()"
   ]
  },
  {
   "cell_type": "code",
   "execution_count": 3,
   "metadata": {},
   "outputs": [
    {
     "name": "stdout",
     "output_type": "stream",
     "text": [
      "sqrt(0.65) = 0.806225774829855\n",
      "cos(0.65)  = 0.7960837985490559\n"
     ]
    }
   ],
   "source": [
    "# visual inspection of the plot\n",
    "visual = 0.65\n",
    "print( \"sqrt(0.65) =\", np.sqrt(visual))\n",
    "print( \"cos(0.65)  =\", np.cos(visual))"
   ]
  },
  {
   "cell_type": "code",
   "execution_count": 4,
   "metadata": {},
   "outputs": [],
   "source": [
    "def fixed_point(func, x0, alpha, eps, max_it =1000):\n",
    "    it = 1\n",
    "    x_old = x0\n",
    "    while it < max_it:\n",
    "        x_new = x_old - alpha*func(x_old)\n",
    "        if abs(x_new - x_old) < eps: \n",
    "            break\n",
    "        x_old = x_new\n",
    "        it += 1\n",
    "        \n",
    "    return x_new, it\n",
    "\n",
    "def func1(x):\n",
    "    return float(np.sqrt(x) - np.cos(x))\n",
    "\n",
    "def func2(x):\n",
    "    return float(0.5/np.sqrt(x) + np.sin(x))"
   ]
  },
  {
   "cell_type": "code",
   "execution_count": 5,
   "metadata": {},
   "outputs": [
    {
     "name": "stdout",
     "output_type": "stream",
     "text": [
      " Fixed-point solution: 0.6417299439916119 \n",
      " Visual solution: 0.65\n"
     ]
    }
   ],
   "source": [
    "res1, it1 = fixed_point(func1, 6.0, 1, 0.0001, 50)\n",
    "\n",
    "print(\" Fixed-point solution:\", res1, \"\\n\", \"Visual solution:\", visual)"
   ]
  },
  {
   "cell_type": "code",
   "execution_count": 6,
   "metadata": {},
   "outputs": [
    {
     "data": {
      "image/png": "[encoded data removed]",
      "text/plain": [
       "<Figure size 648x432 with 1 Axes>"
      ]
     },
     "metadata": {
      "needs_background": "light"
     },
     "output_type": "display_data"
    }
   ],
   "source": [
    "a = 0.6\n",
    "b = 0.7\n",
    "n = int( (b-a)*10 + 1 )\n",
    "#n = 10\n",
    "\n",
    "xd = np.linspace(a, b, n)\n",
    "fi = np.abs( func2(xd) )\n",
    "m = np.min(fi)\n",
    "M = np.max(fi)\n",
    "\n",
    "amin = 2.0/(m+M)\n",
    "xamin,namin = fixed_point(func1, 0.7, amin, 0.0001)\n",
    "\n",
    "alpha = np.linspace(0.1, 1.4, 14)\n",
    "adim = len(alpha)\n",
    "xa = np.zeros(adim, dtype='float64')\n",
    "na = np.zeros(adim, dtype='int')\n",
    "for k in range(adim):\n",
    "    xa[k],na[k] = fixed_point(func1, 0.7, alpha[k], 0.0001)\n",
    "\n",
    "f1 = plt.figure(1, figsize=(9,6))\n",
    "plt.plot(alpha, na, 'b.')\n",
    "plt.plot(amin, namin, 'rx')\n",
    "plt.show()"
   ]
  },
  {
   "cell_type": "markdown",
   "metadata": {},
   "source": [
    "Find the solution (and number of iterations) of the equation above using fixed-point iteration for $\\alpha = 1$ and $\\epsilon = 0.001$ (for Google form)."
   ]
  },
  {
   "cell_type": "code",
   "execution_count": 7,
   "metadata": {},
   "outputs": [
    {
     "name": "stdout",
     "output_type": "stream",
     "text": [
      "0.6416141219929243 4\n"
     ]
    }
   ],
   "source": [
    "res, it = fixed_point(func1, 0.6, 1, 0.001)\n",
    "print(res, it)"
   ]
  },
  {
   "cell_type": "markdown",
   "metadata": {},
   "source": [
    "# 2. Inverse quadratic interpolation"
   ]
  },
  {
   "cell_type": "markdown",
   "metadata": {},
   "source": [
    "Suppose we have three different consequitive iterates $x_0$, $x_1$ and $x_2$ and a function $f(x)$: $y_i = f(x_i)$.\n",
    "\n",
    "Construct a unique parabola which passes through $(x_i, y_i)$. Take as a next approximation, $x_3$, the root of this parabola.\n",
    "\n",
    "In order not to solve another nonlinear equation on each step, use an inverse interpolation: construct a second order polynomial $Q(y)$ such that $Q(y_i) = x_i$. Then $x_3 = Q(0)$."
   ]
  },
  {
   "cell_type": "markdown",
   "metadata": {},
   "source": [
    "Now, write a function which finds the solution using inverse quadratic interpolation up to a predefined accuracy $\\epsilon$."
   ]
  },
  {
   "cell_type": "code",
   "execution_count": 8,
   "metadata": {},
   "outputs": [],
   "source": [
    "import math"
   ]
  },
  {
   "cell_type": "code",
   "execution_count": 9,
   "metadata": {},
   "outputs": [],
   "source": [
    "def ctg(x):\n",
    "    res = x - math.cos(x) / math.sin(x)\n",
    "    return res"
   ]
  },
  {
   "cell_type": "code",
   "execution_count": 10,
   "metadata": {},
   "outputs": [],
   "source": [
    "def inv_quad_interpolation(f, x, eps):\n",
    "    y0 = f(x[0])\n",
    "    y1 = f(x[1])\n",
    "    y2 = f(x[2])\n",
    "    x0 = x[0]\n",
    "    x1 = x[1]\n",
    "    x2 = x[2]\n",
    "    \n",
    "    it = 0\n",
    "    while(1):\n",
    "        x_new = ((x0 * y1 * y2) / ((y0 - y1) * (y0 - y2)))+ ((x1 * y0 * y2) / ((y1 - y0) * (y1 - y2))) + ((x2 * y1 * y0) / ((y2 - y0) * (y2 - y1)))\n",
    "        x0 = x1\n",
    "        x1 = x2\n",
    "        x2 = x_new\n",
    "        it+=1\n",
    "        if (abs(f(x2)) <= eps):\n",
    "            break\n",
    "    return x2, it"
   ]
  },
  {
   "cell_type": "markdown",
   "metadata": {},
   "source": [
    "Now implement your function to solve equation\n",
    "$$x = \\mbox{ctg}(x)$$\n",
    "in the interval $x \\in (0.5, 1)$ with $x_0 = 0.6$, $x_1 = 0.8$ and $x_2 = 1$. What is the solution for $\\epsilon = 0.001$? How many iterations did it take to find it? (You will need the answers for Google Form)."
   ]
  },
  {
   "cell_type": "code",
   "execution_count": 11,
   "metadata": {},
   "outputs": [
    {
     "name": "stdout",
     "output_type": "stream",
     "text": [
      "0.8602782702895326 1\n"
     ]
    }
   ],
   "source": [
    "x = np.array([0.6, 0.8, 1])\n",
    "x2, i = inv_quad_interpolation(ctg, x, 0.001)\n",
    "print(x2, i)"
   ]
  },
  {
   "cell_type": "markdown",
   "metadata": {},
   "source": [
    "# 3. Newton-Raphson method"
   ]
  },
  {
   "cell_type": "markdown",
   "metadata": {},
   "source": [
    "Implement the Newton-Raphson method to solve equation $z^3 - 1 = 0$ for complex $z$. Visualize and describe the convergence domain."
   ]
  },
  {
   "cell_type": "code",
   "execution_count": 12,
   "metadata": {},
   "outputs": [],
   "source": [
    "def my_complex_func(x):\n",
    "    return x**3 - 1"
   ]
  },
  {
   "cell_type": "code",
   "execution_count": 13,
   "metadata": {},
   "outputs": [],
   "source": [
    "def my_complex_func2(x):\n",
    "    return 3*x**2"
   ]
  },
  {
   "cell_type": "code",
   "execution_count": 28,
   "metadata": {},
   "outputs": [],
   "source": [
    "def Newton(g, Df, x0, eps):\n",
    "    x_res = np.zeros((20, 3), dtype=np.complex)\n",
    "    x_res[0] = complex(x0)\n",
    "    delta = 10\n",
    "    it = 1\n",
    "    while (delta > eps):\n",
    "        x1 = x_res[it - 1, 0] - g(x_res[it - 1, 0]) / Df(x_res[it - 1, 0])\n",
    "        r = x1.real ** 2 + x1.imag ** 2\n",
    "        w = math.atan2(x1.imag, x1.real)\n",
    "        x2 = complex(r*math.cos(w-2.0*pi/3.0),r*math.sin(w-2.0*pi/3.0))\n",
    "        x3 = complex(r*math.cos(w+2.0*pi/3.0),r*math.sin(w+2.0*pi/3.0))\n",
    "        x_res[it, 0] = x1\n",
    "        x_res[it, 1] = x2\n",
    "        x_res[it, 2] = x3\n",
    "        delta = abs(x_res[it, 0]-x_res[it-1, 0])\n",
    "        it += 1\n",
    "    return x_res[:it], it"
   ]
  },
  {
   "cell_type": "code",
   "execution_count": 29,
   "metadata": {},
   "outputs": [
    {
     "name": "stdout",
     "output_type": "stream",
     "text": [
      "[[ 0.6       +0.j          0.6       +0.j          0.6       +0.j        ]\n",
      " [ 1.32592593+0.j         -0.87903978-1.52254156j -0.87903978+1.52254156j]\n",
      " [ 1.07355144+0.j         -0.57625635-0.99810527j -0.57625635+0.99810527j]\n",
      " [ 1.00492409+0.j         -0.50493622-0.87457518j -0.50493622+0.87457518j]\n",
      " [ 1.00002409+0.j         -0.50002409-0.86606713j -0.50002409+0.86606713j]\n",
      " [ 1.        +0.j         -0.5       -0.8660254j  -0.5       +0.8660254j ]]\n"
     ]
    }
   ],
   "source": [
    "res, k = Newton(my_complex_func,my_complex_func2, 0.6, 0.001)\n",
    "print(res)"
   ]
  },
  {
   "cell_type": "markdown",
   "metadata": {},
   "source": [
    "Hint: visualize the convergence domain as a scatter plot of coloured points (the colour of the point depends on the root it converged to)."
   ]
  },
  {
   "cell_type": "code",
   "execution_count": null,
   "metadata": {},
   "outputs": [],
   "source": []
  },
  {
   "cell_type": "code",
   "execution_count": null,
   "metadata": {},
   "outputs": [],
   "source": []
  }
 ],
 "metadata": {
  "kernelspec": {
   "display_name": "Python 3",
   "language": "python",
   "name": "python3"
  },
  "language_info": {
   "codemirror_mode": {
    "name": "ipython",
    "version": 3
   },
   "file_extension": ".py",
   "mimetype": "text/x-python",
   "name": "python",
   "nbconvert_exporter": "python",
   "pygments_lexer": "ipython3",
   "version": "3.7.1"
  }
 },
 "nbformat": 4,
 "nbformat_minor": 2
}
